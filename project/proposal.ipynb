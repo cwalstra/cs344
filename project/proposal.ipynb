{
 "cells": [
  {
   "cell_type": "markdown",
   "metadata": {
    "collapsed": true
   },
   "source": [
    "    I plan to build a neural network that identifies a car's make and model from an image of the car.  It will draw on the Stanford cars dataset.  A link to the webpage for Stanford Cars dataset is given below.  It contains about 16,000 images, split almost evenly between training and testing images. This project will draw on as many of these images as possible to provide as much data as possible to the model.\n",
    "    This project will further explore convolutional neural networks beyond the work in class.  It will extend the classwork in three ways.  First, it will use colored images, whereas the class work with the MNIST database used only black-and-white images.  Second, it will dive much more deeply into how to optimize a convolutional neural network than the time allotted in class will allow.  Third, it wil permit the examination of the effects of using padding and a stride other than 1 when using a convolutional neural network.  These things should deepen my understand of convolutional neural networks and make this project worthwhile.\n",
    "    \n",
    "\n",
    "https://ai.stanford.edu/~jkrause/cars/car_dataset.html"
   ]
  }
 ],
 "metadata": {
  "kernelspec": {
   "display_name": "Python 3",
   "language": "python",
   "name": "python3"
  },
  "language_info": {
   "codemirror_mode": {
    "name": "ipython",
    "version": 3
   },
   "file_extension": ".py",
   "mimetype": "text/x-python",
   "name": "python",
   "nbconvert_exporter": "python",
   "pygments_lexer": "ipython3",
   "version": "3.5.2"
  }
 },
 "nbformat": 4,
 "nbformat_minor": 1
}
