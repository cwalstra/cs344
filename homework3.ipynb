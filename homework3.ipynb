{
 "cells": [
  {
   "cell_type": "markdown",
   "metadata": {
    "collapsed": true
   },
   "source": [
    "It is not possible to create a network of perceptrons using a linear activation function that can properly compute the XOR function.  A linear activation function that takes a bias and a number of weighted inputs.  If the activation function returns a number greater than (or less than, depending on setup) a certain threshold, then the perceptron activates.  While this works for AND and OR, it does not work for XOR because AND and OR are linearly separable, but XOR is not. For AND and OR, any results above a certain value can be set aside as active or not. For example, in a two input AND perceptron with weight 1 on both inputs, the perceptron will only be active if both inputs are high (threshold = 2).  Likewise, a two input OR perceptron will be active if the sum of weights times inputs is one or more, indicating that one or more inputs is high.  However, there is no threshold that works for XOR because it needs to be inactive in the lowest sum case (both inputs = 0) and the highest sum case (both inputs = 1).  Any threshold used for a linear activation function for XOR would include cases in which the perceptron should be active, and ones for which it should not be active.  Consequently, perceptrons with linear activation functions cannot reliably compute XOR. \n",
    "\n",
    "To create a network of perceptrons that can compute XOR, one of two things are needed.  The first is a non-linear activation function, e.g. the ReLU function, the tanh function, or the sigmoid function.  This allows the network to accommodate the non-linear nature of the XOR function.  The second thing that the network needs is the ability to backpropagate.  This means that it can derive changes from incorrect results and change the weights placed on various inputs as the model learns.  For a two-input network, the resulting network will include two hidden nodes and one output node.  One of the hidden nodes will move toward reflecting OR; the other will reflect AND.  The output node should put a weight of 1 on the output of the OR node and a weight of -1 on the output of the AND node.  Therefore, if both inputs are 0, the output node will receive an output of 0 from both the AND and OR nodes, and therefore output 0.  If one output is 1, then the OR node will output 1 and the AND node will output 0, and the output node will "
   ]
  },
  {
   "cell_type": "markdown",
   "metadata": {},
   "source": []
  },
  {
   "cell_type": "code",
   "execution_count": 7,
   "metadata": {},
   "outputs": [
    {
     "name": "stdout",
     "output_type": "stream",
     "text": [
      "[[1.23247e+00 0.00000e+00 8.14000e+00 ... 2.10000e+01 3.96900e+02\n",
      "  1.87200e+01]\n",
      " [2.17700e-02 8.25000e+01 2.03000e+00 ... 1.47000e+01 3.95380e+02\n",
      "  3.11000e+00]\n",
      " [4.89822e+00 0.00000e+00 1.81000e+01 ... 2.02000e+01 3.75520e+02\n",
      "  3.26000e+00]\n",
      " ...\n",
      " [1.83377e+00 0.00000e+00 1.95800e+01 ... 1.47000e+01 3.89610e+02\n",
      "  1.92000e+00]\n",
      " [3.58090e-01 0.00000e+00 6.20000e+00 ... 1.74000e+01 3.91700e+02\n",
      "  9.71000e+00]\n",
      " [2.92400e+00 0.00000e+00 1.95800e+01 ... 1.47000e+01 2.40160e+02\n",
      "  9.81000e+00]]\n",
      "[15.2 42.3 50.  21.1 17.7 18.5 11.3 15.6 15.6 14.4 12.1 17.9 23.1 19.9\n",
      " 15.7  8.8 50.  22.5 24.1 27.5 10.9 30.8 32.9 24.  18.5 13.3 22.9 34.7\n",
      " 16.6 17.5 22.3 16.1 14.9 23.1 34.9 25.  13.9 13.1 20.4 20.  15.2 24.7\n",
      " 22.2 16.7 12.7 15.6 18.4 21.  30.1 15.1 18.7  9.6 31.5 24.8 19.1 22.\n",
      " 14.5 11.  32.  29.4 20.3 24.4 14.6 19.5 14.1 14.3 15.6 10.5  6.3 19.3\n",
      " 19.3 13.4 36.4 17.8 13.5 16.5  8.3 14.3 16.  13.4 28.6 43.5 20.2 22.\n",
      " 23.  20.7 12.5 48.5 14.6 13.4 23.7 50.  21.7 39.8 38.7 22.2 34.9 22.5\n",
      " 31.1 28.7 46.  41.7 21.  26.6 15.  24.4 13.3 21.2 11.7 21.7 19.4 50.\n",
      " 22.8 19.7 24.7 36.2 14.2 18.9 18.3 20.6 24.6 18.2  8.7 44.  10.4 13.2\n",
      " 21.2 37.  30.7 22.9 20.  19.3 31.7 32.  23.1 18.8 10.9 50.  19.6  5.\n",
      " 14.4 19.8 13.8 19.6 23.9 24.5 25.  19.9 17.2 24.6 13.5 26.6 21.4 11.9\n",
      " 22.6 19.6  8.5 23.7 23.1 22.4 20.5 23.6 18.4 35.2 23.1 27.9 20.6 23.7\n",
      " 28.  13.6 27.1 23.6 20.6 18.2 21.7 17.1  8.4 25.3 13.8 22.2 18.4 20.7\n",
      " 31.6 30.5 20.3  8.8 19.2 19.4 23.1 23.  14.8 48.8 22.6 33.4 21.1 13.6\n",
      " 32.2 13.1 23.4 18.9 23.9 11.8 23.3 22.8 19.6 16.7 13.4 22.2 20.4 21.8\n",
      " 26.4 14.9 24.1 23.8 12.3 29.1 21.  19.5 23.3 23.8 17.8 11.5 21.7 19.9\n",
      " 25.  33.4 28.5 21.4 24.3 27.5 33.1 16.2 23.3 48.3 22.9 22.8 13.1 12.7\n",
      " 22.6 15.  15.3 10.5 24.  18.5 21.7 19.5 33.2 23.2  5.  19.1 12.7 22.3\n",
      " 10.2 13.9 16.3 17.  20.1 29.9 17.2 37.3 45.4 17.8 23.2 29.  22.  18.\n",
      " 17.4 34.6 20.1 25.  15.6 24.8 28.2 21.2 21.4 23.8 31.  26.2 17.4 37.9\n",
      " 17.5 20.   8.3 23.9  8.4 13.8  7.2 11.7 17.1 21.6 50.  16.1 20.4 20.6\n",
      " 21.4 20.6 36.5  8.5 24.8 10.8 21.9 17.3 18.9 36.2 14.9 18.2 33.3 21.8\n",
      " 19.7 31.6 24.8 19.4 22.8  7.5 44.8 16.8 18.7 50.  50.  19.5 20.1 50.\n",
      " 17.2 20.8 19.3 41.3 20.4 20.5 13.8 16.5 23.9 20.6 31.5 23.3 16.8 14.\n",
      " 33.8 36.1 12.8 18.3 18.7 19.1 29.  30.1 50.  50.  22.  11.9 37.6 50.\n",
      " 22.7 20.8 23.5 27.9 50.  19.3 23.9 22.6 15.2 21.7 19.2 43.8 20.3 33.2\n",
      " 19.9 22.5 32.7 22.  17.1 19.  15.  16.1 25.1 23.7 28.7 37.2 22.6 16.4\n",
      " 25.  29.8 22.1 17.4 18.1 30.3 17.5 24.7 12.6 26.5 28.7 13.3 10.4 24.4\n",
      " 23.  20.  17.8  7.  11.8 24.4 13.8 19.4 25.2 19.4 19.4 29.1  7.2 18.8\n",
      " 19.  27.  22.2 24.5 31.2 22.9 20.5 23.2 18.6 14.5 17.8 50.  20.8 24.3\n",
      " 24.2 19.8 19.1 22.7 12.  10.2 20.  18.5 20.9 23.  27.5 30.1  9.5 22.\n",
      " 21.2 14.1 33.1 23.4 20.1  7.4 15.4 23.8 20.1 24.5 33.  28.4 14.1 46.7\n",
      " 32.5 29.6 28.4 19.8 20.2 25.  35.4 20.3  9.7 14.5 34.9 26.6  7.2 50.\n",
      " 32.4 21.6 29.8 13.1 27.5 21.2 23.1 21.9 13.  23.2  8.1  5.6 21.7 29.6\n",
      " 19.6  7.  26.4 18.9 20.9 28.1 35.4 10.2 24.3 43.1 17.6 15.4 16.2 27.1\n",
      " 21.4 21.5 22.4 25.  16.6 18.6 22.  42.8 35.1 21.5 36.  21.9 24.1 50.\n",
      " 26.7 25. ]\n"
     ]
    }
   ],
   "source": [
    "# Question 2\n",
    "\n",
    "# Part 1\n",
    "from keras.datasets import boston_housing\n",
    "\n",
    "def print_structures():\n",
    "    print(\n",
    "        'training images \\\n",
    "            \\n\\tcount: {} \\\n",
    "            \\n\\tdimensions: {} \\\n",
    "            \\n\\tshape: {} \\\n",
    "            \\n\\tdata type: {}\\n\\n'.format(\n",
    "                len(train_images), \n",
    "                train_images.ndim, \n",
    "                train_images.shape, \n",
    "                train_images.dtype\n",
    "        ),\n",
    "        'testing images \\\n",
    "            \\n\\tcount: {} \\\n",
    "            \\n\\tdimensions: {} \\\n",
    "            \\n\\tshape: {} \\\n",
    "            \\n\\tdata type: {} \\\n",
    "            \\n\\tvalues: {}\\n'.format(\n",
    "                len(test_labels), \n",
    "                train_labels.ndim, \n",
    "                test_labels.shape, \n",
    "                test_labels.dtype, \n",
    "                test_labels\n",
    "        )\n",
    "    )\n",
    "    \n",
    "\n",
    "(train_images, train_labels), (test_images, test_labels) = boston_housing.load_data(test_split=0)\n",
    "\n",
    "print_structures()"
   ]
  },
  {
   "cell_type": "code",
   "execution_count": null,
   "metadata": {},
   "outputs": [],
   "source": [
    "# Part 2\n",
    "boston_housing_dataset.reindex(np.random.permutation(boston_housing_dataset.index))\n",
    "test_set = boston_housing_dataset[:300]\n",
    "validation_set  = boston_housing_dataset[300:400]\n",
    "verification_set = boston_housing_dataset[400:]\n"
   ]
  }
 ],
 "metadata": {
  "kernelspec": {
   "display_name": "Python 3",
   "language": "python",
   "name": "python3"
  },
  "language_info": {
   "codemirror_mode": {
    "name": "ipython",
    "version": 3
   },
   "file_extension": ".py",
   "mimetype": "text/x-python",
   "name": "python",
   "nbconvert_exporter": "python",
   "pygments_lexer": "ipython3",
   "version": "3.5.2"
  }
 },
 "nbformat": 4,
 "nbformat_minor": 1
}
