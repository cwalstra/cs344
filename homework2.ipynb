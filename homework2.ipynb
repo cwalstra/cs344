{
 "cells": [
  {
   "cell_type": "code",
   "execution_count": 9,
   "metadata": {
    "collapsed": true
   },
   "outputs": [
    {
     "name": "stdout",
     "output_type": "stream",
     "text": [
      "{'spamiam': 0.4, 'spam': 0.99, 'eggs': 0.01, 'like': 0.3333333333333333, 'do': 0.3333333333333333, 'ham': 0.01, 'and': 0.01, 'i': 0.01, 'am': 0.99, 'not': 0.4, 'green': 0.01, 'that': 0.4, 'I': 0.99}\nThis email is spam!\n"
     ]
    }
   ],
   "source": [
    "'''\n",
    "Bayesian Spam Filter\n",
    "Based on an algorithm by Paul Graham\n",
    "\n",
    "Written by: Chris Walstra\n",
    "'''\n",
    "\n",
    "DEFAULT_PROBABILITY = 0.4\n",
    "\n",
    "def ParseEmails(freqDict, emails, spam):\n",
    "    for email in emails:\n",
    "        for word in email:\n",
    "            if word in freqDict.keys():\n",
    "                if spam == 1:\n",
    "                    hold = freqDict[word][0]\n",
    "                    counter = freqDict[word][1]\n",
    "                    counter += 1\n",
    "                    freqDict[word] = (hold, counter)\n",
    "                else:\n",
    "                    hold = freqDict[word][1]\n",
    "                    counter = freqDict[word][0]\n",
    "                    counter += 1\n",
    "                    freqDict[word] = (counter, hold)\n",
    "            else:\n",
    "                if spam == 1:\n",
    "                    freqDict[word] = (0, 1)\n",
    "                else:\n",
    "                    freqDict[word] = (1, 0)\n",
    "    return freqDict\n",
    "\n",
    "def findProbabilityDict(freqDict, ngood, nbad, threshold=5):\n",
    "    probabilityDict = {}\n",
    "    for word in freqDict.keys():\n",
    "        (g, b) = freqDict[word]\n",
    "        g = 2*g\n",
    "        \n",
    "        if g + b > threshold:\n",
    "            probabilityDict[word] = max(0.01, min(0.99, min(1.0, b/nbad)/(min(1.0, g/ngood) + min(1.0, b/nbad))))\n",
    "        else:\n",
    "            probabilityDict[word] = DEFAULT_PROBABILITY\n",
    "    \n",
    "    return probabilityDict\n",
    "\n",
    "def isEmailSpam(probDict, email):\n",
    "    prob = 1\n",
    "    complement = 1\n",
    "    for word in email:\n",
    "        if word in probDict.keys():\n",
    "            prob = prob * probDict[word]\n",
    "            complement = complement * (1 - probDict[word])\n",
    "        else:\n",
    "            prob = prob * .4\n",
    "            complement = complement * .6\n",
    "        \n",
    "    spamProb = prob/(prob + complement)\n",
    "    if spamProb > 0.9:\n",
    "        return True\n",
    "    else:\n",
    "        return False\n",
    "\n",
    "def SpamFilter():\n",
    "    frequencyDict = {}\n",
    "\n",
    "    # Must be a list of emails, where each email is a list of words\n",
    "    spamEmails = [[\"I\", \"am\", \"spam\", \"spam\", \"I\", \"am\"], [\"I\", \"do\", \"not\", \"like\", \"that\", \"spamiam\"]]\n",
    "    safeEmails = [[\"do\", \"i\", \"like\", \"green\", \"eggs\", \"and\", \"ham\"], [\"i\", \"do\"]]\n",
    "    #myEmail = [\"i\", \"am\", \"green\", \"eggs\", \"and\", \"ham\"]\n",
    "    myEmail = [\"I\", \"am\", \"spam\"]\n",
    "  \n",
    "    frequencyDict = ParseEmails(frequencyDict, spamEmails, 1)\n",
    "    frequencyDict = ParseEmails(frequencyDict, safeEmails, 0)\n",
    "    \n",
    "    probabilityDict = findProbabilityDict(frequencyDict, len(safeEmails), len(spamEmails), 1)\n",
    "    \n",
    "    print(probabilityDict)\n",
    "    \n",
    "    if myEmail:\n",
    "        if isEmailSpam(probabilityDict, myEmail):\n",
    "            print(\"This email is spam!\")\n",
    "        else:\n",
    "            print(\"This email is not spam!\")\n",
    "\n",
    "\n",
    "if __name__ == \"__main__\":\n",
    "    SpamFilter()"
   ]
  },
  {
   "cell_type": "code",
   "execution_count": 10,
   "metadata": {},
   "outputs": [],
   "source": [
    "\n"
   ]
  },
  {
   "cell_type": "code",
   "execution_count": 10,
   "metadata": {},
   "outputs": [],
   "source": []
  },
  {
   "cell_type": "code",
   "execution_count": null,
   "metadata": {},
   "outputs": [],
   "source": []
  }
 ],
 "metadata": {
  "kernelspec": {
   "display_name": "Python 2",
   "language": "python",
   "name": "python2"
  },
  "language_info": {
   "codemirror_mode": {
    "name": "ipython",
    "version": 2
   },
   "file_extension": ".py",
   "mimetype": "text/x-python",
   "name": "python",
   "nbconvert_exporter": "python",
   "pygments_lexer": "ipython2",
   "version": "2.7.6"
  }
 },
 "nbformat": 4,
 "nbformat_minor": 0
}
