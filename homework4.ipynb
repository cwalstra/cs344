{
 "cells": [
  {
   "cell_type": "markdown",
   "metadata": {
    "collapsed": true
   },
   "source": [
    "In my opinion, the success of deep neural networks will be determined by how much people expect from them.  If people expect them to solve every single problem, I think that they will disappoint.  Because the internal functions of deep neural networks are so obscure, few, if any, people actually understand why they return the results they do.  This means that, if a network returns incorrect answers, it is difficult to know why it is returning these results and how to change things to fix it.  If, for instance, a deep neural network evaluating images returns an incorrect identification, it will be difficult to fix.  It also means that neural networks struggle to identify images dissimilar to what the network has trained on.  Both of these are major issues for autonomous cars, which need to recognize images quickly and accurately and also recognize images in inclement and changing conditions that the network may have been trained for.  Because of the limitations of a deep neural network, it will likely be unable to address these issues.  \n",
    "On the other hand, deep neural networks have the potential to solve a number of useful problems.  They have radically improved image recognition, even if they have not hit 100% accuracy.  They have also radically improved speech and text processing.  They have also addressed less useful problems, such as playing Go or Chess.  As long as there are problems with large amounts of data and powerful processors to evaluate that data, there will be a role for neural networks in solving problems.  As long as the expectations for deep neural networks are realistic, there is no reason why they cannot continue as a major approach to problem-solving."
   ]
  },
  {
   "cell_type": "markdown",
   "metadata": {},
   "source": [
    "Part 2 Here"
   ]
  },
  {
   "cell_type": "code",
   "execution_count": null,
   "metadata": {},
   "outputs": [],
   "source": []
  }
 ],
 "metadata": {
  "kernelspec": {
   "display_name": "Python 3",
   "language": "python",
   "name": "python3"
  },
  "language_info": {
   "codemirror_mode": {
    "name": "ipython",
    "version": 3
   },
   "file_extension": ".py",
   "mimetype": "text/x-python",
   "name": "python",
   "nbconvert_exporter": "python",
   "pygments_lexer": "ipython3",
   "version": "3.5.2"
  }
 },
 "nbformat": 4,
 "nbformat_minor": 1
}
